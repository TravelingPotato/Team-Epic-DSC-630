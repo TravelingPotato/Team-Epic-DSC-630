{
 "cells": [
  {
   "cell_type": "code",
   "execution_count": 1,
   "metadata": {},
   "outputs": [],
   "source": [
    "from urllib.request import urlopen\n",
    "from bs4 import BeautifulSoup\n",
    "import pandas as pd\n",
    "import numpy as np"
   ]
  },
  {
   "cell_type": "code",
   "execution_count": 2,
   "metadata": {},
   "outputs": [],
   "source": [
    "def pull_stats(year):   \n",
    "\n",
    "    # 1\n",
    "    url = \"https://www.basketball-reference.com/leagues/NBA_{}_per_game.html\".format(year)\n",
    "    soup = BeautifulSoup(urlopen(url))\n",
    "    \n",
    "    #2\n",
    "    headers = [th.getText() for th in soup.findAll('tr')[0].findAll('th')]\n",
    "\n",
    "    #3\n",
    "    headers = headers[1:]\n",
    "\n",
    "    #4\n",
    "    rows = soup.findAll('tr')[1:]\n",
    "    \n",
    "    #5\n",
    "    player_stats = [[td.getText() for td in rows[i].findAll('td')]\n",
    "                for i in range(len(rows))]\n",
    "    \n",
    "    #6\n",
    "    stats = pd.DataFrame(player_stats, columns = headers)\n",
    "    \n",
    "    #7\n",
    "    stats['Year'] = year\n",
    "    \n",
    "    return stats"
   ]
  },
  {
   "cell_type": "code",
   "execution_count": 3,
   "metadata": {},
   "outputs": [],
   "source": [
    "def pull_salary(year, pages=50):\n",
    "    #1\n",
    "    full = []\n",
    "    \n",
    "    #2\n",
    "    for i in range(1,pages+1):\n",
    "        \n",
    "        #3\n",
    "        url = \"http://www.espn.com/nba/salaries/_/year/{}/page/{}\".format(year, i)\n",
    "\n",
    "        soup = BeautifulSoup(urlopen(url))\n",
    "\n",
    "        headers = [td.getText() for td in soup.findAll('tr')[0].findAll('td')]\n",
    "\n",
    "        rows = soup.findAll('tr')[1:]\n",
    "\n",
    "        player_salary = [[td.getText() for td in rows[i].findAll('td')]\n",
    "                    for i in range(len(rows))]\n",
    "        \n",
    "        salary = pd.DataFrame(player_salary, columns = headers)\n",
    "        salary['Year'] = year\n",
    "        \n",
    "        #4\n",
    "        for i in range(len(salary)):\n",
    "            salary['NAME'][i] = salary['NAME'][i].split(',')[0]\n",
    "        \n",
    "        full.append(salary)\n",
    "    \n",
    "    #5\n",
    "    full = pd.concat(full)\n",
    "    \n",
    "    #6\n",
    "    full.drop(full[full['RK']=='RK'].index, inplace=True)\n",
    "    \n",
    "    #7\n",
    "    full = full.reset_index().drop(columns='index')\n",
    "    \n",
    "    return full"
   ]
  },
  {
   "cell_type": "code",
   "execution_count": 15,
   "metadata": {},
   "outputs": [],
   "source": [
    "def create_df(years):\n",
    "    \n",
    "    #1\n",
    "    final = pd.DataFrame()\n",
    "    \n",
    "    #2\n",
    "    for year in years:\n",
    "        temp_sta = pull_stats(year)\n",
    "        temp_sal = pull_salary(year)\n",
    "        \n",
    "        #3\n",
    "        cols = list(temp_sta.columns)\n",
    "        cols.append('Salary')\n",
    "        new = pd.DataFrame(columns=cols)\n",
    "        \n",
    "        #4\n",
    "        for i in range(len(temp_sta)):\n",
    "            player = temp_sta['Player'][i]\n",
    "            index = temp_sal[temp_sal['NAME']==player].index.values\n",
    "            \n",
    "            #5\n",
    "            if index.size == 0:\n",
    "                continue\n",
    "            else:\n",
    "                new = new.append(temp_sta.iloc[i])\n",
    "                new['Salary'][i] = temp_sal['SALARY'][index].values[0]\n",
    "                \n",
    "        new = new.loc[(new['Tm'] == 'TOT')|~new['Player'].duplicated()]\n",
    "        #6\n",
    "        final = final.append(new)\n",
    "    \n",
    "    #7\n",
    "    final.replace('', np.nan, inplace=True)\n",
    "    final.dropna(inplace=True)\n",
    "    \n",
    "    \n",
    "    return final"
   ]
  },
  {
   "cell_type": "code",
   "execution_count": 20,
   "metadata": {},
   "outputs": [
    {
     "name": "stderr",
     "output_type": "stream",
     "text": [
      "C:\\Users\\ande5\\Anaconda3\\lib\\site-packages\\ipykernel_launcher.py:25: SettingWithCopyWarning: \n",
      "A value is trying to be set on a copy of a slice from a DataFrame\n",
      "\n",
      "See the caveats in the documentation: http://pandas.pydata.org/pandas-docs/stable/indexing.html#indexing-view-versus-copy\n"
     ]
    }
   ],
   "source": [
    "test = create_df(list(range(2010,2020)))"
   ]
  },
  {
   "cell_type": "code",
   "execution_count": 21,
   "metadata": {},
   "outputs": [],
   "source": [
    "test.to_csv('Final.csv', index = False)"
   ]
  },
  {
   "cell_type": "code",
   "execution_count": 22,
   "metadata": {},
   "outputs": [
    {
     "data": {
      "text/plain": [
       "3638"
      ]
     },
     "execution_count": 22,
     "metadata": {},
     "output_type": "execute_result"
    }
   ],
   "source": [
    "len(test)"
   ]
  },
  {
   "cell_type": "code",
   "execution_count": null,
   "metadata": {},
   "outputs": [],
   "source": []
  }
 ],
 "metadata": {
  "kernelspec": {
   "display_name": "Python 3",
   "language": "python",
   "name": "python3"
  },
  "language_info": {
   "codemirror_mode": {
    "name": "ipython",
    "version": 3
   },
   "file_extension": ".py",
   "mimetype": "text/x-python",
   "name": "python",
   "nbconvert_exporter": "python",
   "pygments_lexer": "ipython3",
   "version": "3.7.1"
  }
 },
 "nbformat": 4,
 "nbformat_minor": 2
}
