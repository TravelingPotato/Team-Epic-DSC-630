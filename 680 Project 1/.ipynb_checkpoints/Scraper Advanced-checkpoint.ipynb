{
 "cells": [
  {
   "cell_type": "code",
   "execution_count": 4,
   "metadata": {},
   "outputs": [],
   "source": [
    "from urllib.request import urlopen\n",
    "from bs4 import BeautifulSoup\n",
    "import pandas as pd\n",
    "import numpy as np"
   ]
  },
  {
   "cell_type": "code",
   "execution_count": 8,
   "metadata": {},
   "outputs": [],
   "source": [
    "def pull_stats1(year):   \n",
    "\n",
    "    # 1\n",
    "    url = \"https://www.basketball-reference.com/leagues/NBA_{}_per_game.html\".format(year)\n",
    "    soup = BeautifulSoup(urlopen(url))\n",
    "    \n",
    "    #2\n",
    "    headers = [th.getText() for th in soup.findAll('tr')[0].findAll('th')]\n",
    "\n",
    "    #3\n",
    "    headers = headers[1:]\n",
    "\n",
    "    #4\n",
    "    rows = soup.findAll('tr')[1:]\n",
    "    \n",
    "    #5\n",
    "    player_stats = [[td.getText() for td in rows[i].findAll('td')]\n",
    "                for i in range(len(rows))]\n",
    "    \n",
    "    #6\n",
    "    stats = pd.DataFrame(player_stats, columns = headers)\n",
    "    \n",
    "    #7\n",
    "    #stats['Year'] = year\n",
    "    \n",
    "    return stats"
   ]
  },
  {
   "cell_type": "code",
   "execution_count": 170,
   "metadata": {},
   "outputs": [],
   "source": [
    "def pull_stats2(year):   \n",
    "\n",
    "    # 1\n",
    "    url = \"https://www.basketball-reference.com/leagues/NBA_{}_advanced.html#advanced_stats::per\".format(year)\n",
    "    soup = BeautifulSoup(urlopen(url))\n",
    "    \n",
    "    #2\n",
    "    headers = [th.getText() for th in soup.findAll('tr')[0].findAll('th')]\n",
    "\n",
    "    #3\n",
    "    headers = headers[1:]\n",
    "\n",
    "    #4\n",
    "    rows = soup.findAll('tr')[1:]\n",
    "    \n",
    "    #5\n",
    "    player_stats = [[td.getText() for td in rows[i].findAll('td')]\n",
    "                for i in range(len(rows))]\n",
    "    \n",
    "    #6\n",
    "    stats = pd.DataFrame(player_stats, columns = headers)\n",
    "    \n",
    "    #7\n",
    "    stats['Year'] = year\n",
    "    stats = stats.drop([stats.columns[18], stats.columns[23]], axis='columns')\n",
    "    \n",
    "    return stats"
   ]
  },
  {
   "cell_type": "code",
   "execution_count": 73,
   "metadata": {},
   "outputs": [],
   "source": [
    "def pull_salary(year, pages=50):\n",
    "    #1\n",
    "    full = []\n",
    "    \n",
    "    #2\n",
    "    for i in range(1,pages+1):\n",
    "        \n",
    "        #3\n",
    "        url = \"http://www.espn.com/nba/salaries/_/year/{}/page/{}\".format(year, i)\n",
    "\n",
    "        soup = BeautifulSoup(urlopen(url))\n",
    "\n",
    "        headers = [td.getText() for td in soup.findAll('tr')[0].findAll('td')]\n",
    "\n",
    "        rows = soup.findAll('tr')[1:]\n",
    "\n",
    "        player_salary = [[td.getText() for td in rows[i].findAll('td')]\n",
    "                    for i in range(len(rows))]\n",
    "        \n",
    "        salary = pd.DataFrame(player_salary, columns = headers)\n",
    "        salary['Year'] = year\n",
    "        \n",
    "        #4\n",
    "        for i in range(len(salary)):\n",
    "            salary['NAME'][i] = salary['NAME'][i].split(',')[0]\n",
    "        \n",
    "        full.append(salary)\n",
    "    \n",
    "    #5\n",
    "    full = pd.concat(full)\n",
    "    \n",
    "    #6\n",
    "    full.drop(full[full['RK']=='RK'].index, inplace=True)\n",
    "    \n",
    "    #7\n",
    "    full = full.reset_index().drop(columns='index')\n",
    "    \n",
    "    return full"
   ]
  },
  {
   "cell_type": "code",
   "execution_count": 254,
   "metadata": {},
   "outputs": [],
   "source": [
    "def create_df(years):\n",
    "    \n",
    "    #1\n",
    "    final = pd.DataFrame()\n",
    "    \n",
    "    #2\n",
    "    for year in years:\n",
    "        temp_sta1 = pull_stats1(year)\n",
    "        temp_sta2 = pull_stats2(year)\n",
    "        temp_sal = pull_salary(year)\n",
    "        \n",
    "        #3\n",
    "        cols = list(temp_sta1.columns)[:-1]\n",
    "        cols2 = list(list(temp_sta2.columns)[6:])\n",
    "        cols.extend(cols2)\n",
    "        cols.append('Salary')\n",
    "        new = pd.DataFrame(columns=cols)\n",
    "        \n",
    "        #4\n",
    "        for i in range(len(temp_sta1)):\n",
    "            player = temp_sta1['Player'][i]\n",
    "            index_stat2 = temp_sta2[temp_sta2['Player']==player].index.values\n",
    "            index_sal = temp_sal[temp_sal['NAME']==player].index.values\n",
    "            \n",
    "            #5\n",
    "            if index_stat2.size == 0 or index_sal.size == 0:\n",
    "                continue\n",
    "            else:\n",
    "                array = temp_sta1.iloc[i][:-1].append(temp_sta2.iloc[index_stat2[0]][6:])\n",
    "                df_temp = pd.DataFrame(array).T\n",
    "                df_temp['Salary'] = temp_sal['SALARY'][index_sal].values[0]\n",
    "                df_temp['Salary'] = df_temp['Salary'].replace('[\\$,]', '', regex=True).astype(float)\n",
    "                new = new.append(df_temp)\n",
    "                \n",
    "        new = new.loc[(new['Tm'] == 'TOT')|~new['Player'].duplicated()]\n",
    "        #6\n",
    "        final = final.append(new)\n",
    "    \n",
    "    #7\n",
    "    final.replace('', np.nan, inplace=True)\n",
    "    final.dropna(inplace=True)\n",
    "    \n",
    "    \n",
    "    return final"
   ]
  },
  {
   "cell_type": "code",
   "execution_count": 255,
   "metadata": {},
   "outputs": [
    {
     "name": "stderr",
     "output_type": "stream",
     "text": [
      "C:\\Users\\ande5\\Anaconda3\\lib\\site-packages\\ipykernel_launcher.py:25: SettingWithCopyWarning: \n",
      "A value is trying to be set on a copy of a slice from a DataFrame\n",
      "\n",
      "See the caveats in the documentation: http://pandas.pydata.org/pandas-docs/stable/indexing.html#indexing-view-versus-copy\n"
     ]
    }
   ],
   "source": [
    "df = create_df(range(2010,2020))"
   ]
  },
  {
   "cell_type": "code",
   "execution_count": 256,
   "metadata": {},
   "outputs": [],
   "source": [
    "df.to_csv('Full_scrape.csv', index = False)"
   ]
  },
  {
   "cell_type": "code",
   "execution_count": 257,
   "metadata": {},
   "outputs": [
    {
     "data": {
      "text/plain": [
       "3638"
      ]
     },
     "execution_count": 257,
     "metadata": {},
     "output_type": "execute_result"
    }
   ],
   "source": [
    "len(df)"
   ]
  }
 ],
 "metadata": {
  "kernelspec": {
   "display_name": "Python 3",
   "language": "python",
   "name": "python3"
  },
  "language_info": {
   "codemirror_mode": {
    "name": "ipython",
    "version": 3
   },
   "file_extension": ".py",
   "mimetype": "text/x-python",
   "name": "python",
   "nbconvert_exporter": "python",
   "pygments_lexer": "ipython3",
   "version": "3.7.1"
  }
 },
 "nbformat": 4,
 "nbformat_minor": 2
}
